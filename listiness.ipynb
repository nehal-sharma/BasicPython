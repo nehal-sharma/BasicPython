{
  "nbformat": 4,
  "nbformat_minor": 0,
  "metadata": {
    "colab": {
      "name": "L1 - lec2.ipynb",
      "provenance": [],
      "collapsed_sections": []
    },
    "kernelspec": {
      "display_name": "Python 3",
      "language": "python",
      "name": "python3"
    },
    "language_info": {
      "codemirror_mode": {
        "name": "ipython",
        "version": 3
      },
      "file_extension": ".py",
      "mimetype": "text/x-python",
      "name": "python",
      "nbconvert_exporter": "python",
      "pygments_lexer": "ipython3",
      "version": "3.7.6"
    }
  },
  "cells": [
    {
      "cell_type": "markdown",
      "metadata": {
        "id": "-Tax4ptuC7mk"
      },
      "source": [
        "# Listiness.. or things that behave like lists"
      ]
    },
    {
      "cell_type": "markdown",
      "metadata": {
        "id": "s-C87EGqC7mx"
      },
      "source": [
        "Python puts great stock in the idea of having  **protocols** or mechanisms of behavior, and identifying cases in which this behavior is common.\n",
        "\n",
        "One of the most important ideas is that of things that behave like a *list of items*. \n",
        "\n",
        "These include lists, strings, and files. Many other data structures in Python are made to behave like lists as well, so that their content can be *iterated* through, in addition to their own native behavior."
      ]
    },
    {
      "cell_type": "markdown",
      "metadata": {
        "id": "jDynSCDMwHcC"
      },
      "source": [
        "## Lists\n",
        "\n",
        "The first of these that we should consider, are, well, lists themselves :-). Lets see how python lists behave.\n",
        "\n",
        "A list in Python is a sequence of anything!\n",
        "\n",
        "Lists are mutable; you can insert and delete elements anytime."
      ]
    },
    {
      "cell_type": "code",
      "metadata": {
        "id": "kDz4HzEbwORg",
        "outputId": "3e2fb796-b2fb-4dce-c685-6042fa160c37"
      },
      "source": [
        "# CREATING A LIST\n",
        "\n",
        "# A list is made from zero or more elements, separated by commas, and surrounded by square\n",
        "empty_list = []\n",
        "working_days = ['Monday', 'Tuesday', 'Wednesday', 'Thursday', 'Friday']\n",
        "print (working_days[2])"
      ],
      "execution_count": null,
      "outputs": [
        {
          "output_type": "stream",
          "text": [
            "Wednesday\n"
          ],
          "name": "stdout"
        }
      ]
    },
    {
      "cell_type": "markdown",
      "metadata": {
        "id": "DgiO8nD5C7m2"
      },
      "source": [
        "Notice that Python lists are indexed from 0. The first element gets index 0, the second element gets index 1, and so on. Thus `working_days[2]` gives us the 3rd element."
      ]
    },
    {
      "cell_type": "code",
      "metadata": {
        "id": "TzwIhxyNC7m2",
        "outputId": "8c47fd77-9dd2-4328-9eba-fbb91e5cf8c4"
      },
      "source": [
        "# An empty list can be created using the list() function:\n",
        "next_empty_list = list()\n",
        "print (type(next_empty_list))"
      ],
      "execution_count": null,
      "outputs": [
        {
          "output_type": "stream",
          "text": [
            "<class 'list'>\n"
          ],
          "name": "stdout"
        }
      ]
    },
    {
      "cell_type": "markdown",
      "metadata": {
        "id": "umsTv6QXC7m3"
      },
      "source": [
        "![](https://github.com/nehal-sharma/BasicPython/blob/main/listiness.slides.dir/3.png?raw=1)"
      ]
    },
    {
      "cell_type": "markdown",
      "metadata": {
        "id": "dSExSDVqC7m4"
      },
      "source": [
        "There is a class of objects in Python that are not lists, bur rather, like lists, have a sequential existent. We dont want to generate them until we need them because they are easy to generate and would otherwise take up memory. An example is the\n",
        "object created by the function `range(start, stop)` which just gives you sequential numbers from start to 1 before stop. To generate these numbers, we can pass them to the `list` function"
      ]
    },
    {
      "cell_type": "code",
      "metadata": {
        "id": "CRJQBvIlC7m4",
        "outputId": "7cbf00fb-9606-4a6e-aff3-45a3d63041bf"
      },
      "source": [
        "range(1,10)"
      ],
      "execution_count": null,
      "outputs": [
        {
          "output_type": "execute_result",
          "data": {
            "text/plain": [
              "range(1, 10)"
            ]
          },
          "metadata": {
            "tags": []
          },
          "execution_count": 55
        }
      ]
    },
    {
      "cell_type": "code",
      "metadata": {
        "id": "2w00JDg0wS3-",
        "outputId": "186153ac-60d5-4aa5-b22d-311e76390e09"
      },
      "source": [
        "num_list = list(range(1,10)) \n",
        "print(num_list) "
      ],
      "execution_count": null,
      "outputs": [
        {
          "output_type": "stream",
          "text": [
            "[1, 2, 3, 4, 5, 6, 7, 8, 9]\n"
          ],
          "name": "stdout"
        }
      ]
    },
    {
      "cell_type": "code",
      "metadata": {
        "id": "VwQolwoUwUfE",
        "outputId": "357138b0-9f56-4246-c653-40ae1843a33b"
      },
      "source": [
        "# Lists are mutable (elements are changeable) \n",
        "num_list = [1, 2, 3, 4]\n",
        "num_list[1] = 8 \n",
        "print (num_list)"
      ],
      "execution_count": null,
      "outputs": [
        {
          "output_type": "stream",
          "text": [
            "[1, 8, 3, 4]\n"
          ],
          "name": "stdout"
        }
      ]
    },
    {
      "cell_type": "markdown",
      "metadata": {
        "id": "qa-zscUhC7m7"
      },
      "source": [
        "![](https://github.com/nehal-sharma/BasicPython/blob/main/listiness.slides.dir/4.png?raw=1)"
      ]
    },
    {
      "cell_type": "code",
      "metadata": {
        "id": "sdBbnLTVwXJf",
        "outputId": "bc631257-c16b-4db9-c356-d0348ea51faf"
      },
      "source": [
        "# Indexing a list\n",
        "# - Any integer expression can be used as an index\n",
        "# - If an index has a negative value, it counts from backward\n",
        "lst = list(range(1,5))\n",
        "print(lst)\n",
        "print (lst[-1])"
      ],
      "execution_count": null,
      "outputs": [
        {
          "output_type": "stream",
          "text": [
            "[1, 2, 3, 4]\n",
            "4\n"
          ],
          "name": "stdout"
        }
      ]
    },
    {
      "cell_type": "markdown",
      "metadata": {
        "id": "IlI7SjQUC7m8"
      },
      "source": [
        "You can get slices of lists"
      ]
    },
    {
      "cell_type": "code",
      "metadata": {
        "id": "jr2mnnpuC7m9",
        "outputId": "c8b84199-58c8-4aa7-b3c8-7c9d25394f6a"
      },
      "source": [
        "lst[0:3] # from 0, dont include whats at index 3"
      ],
      "execution_count": null,
      "outputs": [
        {
          "output_type": "execute_result",
          "data": {
            "text/plain": [
              "[1, 2, 3]"
            ]
          },
          "metadata": {
            "tags": []
          },
          "execution_count": 37
        }
      ]
    },
    {
      "cell_type": "code",
      "metadata": {
        "id": "b-V4qLktC7m9",
        "outputId": "ea933297-3e41-4898-83a2-d90e986b07cb"
      },
      "source": [
        "lst[-3:-1]"
      ],
      "execution_count": null,
      "outputs": [
        {
          "output_type": "execute_result",
          "data": {
            "text/plain": [
              "[2, 3]"
            ]
          },
          "metadata": {
            "tags": []
          },
          "execution_count": 38
        }
      ]
    },
    {
      "cell_type": "code",
      "metadata": {
        "id": "dsEJup_xwZYQ",
        "outputId": "07d6998d-7619-4ed4-c52a-e06e5cd88602"
      },
      "source": [
        "# A list can have another list, or anything else as its element\n",
        "numbers = [1, 2, 3, 4, 5]\n",
        "courses = ['PP', 'BDA', \"USP\", 'WTA'] \n",
        "new_list = [numbers, courses, '6th sem'] \n",
        "print (new_list, len(new_list))"
      ],
      "execution_count": null,
      "outputs": [
        {
          "output_type": "stream",
          "text": [
            "[[1, 2, 3, 4, 5], ['PP', 'BDA', 'USP', 'WTA'], '6th sem'] 3\n"
          ],
          "name": "stdout"
        }
      ]
    },
    {
      "cell_type": "code",
      "metadata": {
        "id": "yxPMSYv2wi4y",
        "outputId": "d4242108-1dc3-43db-dad4-17e9751227d5"
      },
      "source": [
        "#Membership (using 'in' operator)\n",
        "'a' in list_a"
      ],
      "execution_count": null,
      "outputs": [
        {
          "output_type": "execute_result",
          "data": {
            "text/plain": [
              "True"
            ]
          },
          "metadata": {
            "tags": []
          },
          "execution_count": 40
        }
      ]
    },
    {
      "cell_type": "markdown",
      "metadata": {
        "id": "Qfs4-_O6C7m_"
      },
      "source": [
        "## Operations on lists\n",
        "\n",
        "Lists support many methods which make using them simple. My favorite is `append`.\n"
      ]
    },
    {
      "cell_type": "code",
      "metadata": {
        "id": "N8t4LmEAwlLf",
        "outputId": "eff388b6-ee6d-46d2-fdb5-cdbddb5951cc"
      },
      "source": [
        "# append(x) - Adds a new element 'x' at the end of the list\n",
        "alist = ['a', 'b', 'c'] \n",
        "alist.append('d') \n",
        "print (alist)"
      ],
      "execution_count": null,
      "outputs": [
        {
          "output_type": "stream",
          "text": [
            "['a', 'b', 'c', 'd']\n"
          ],
          "name": "stdout"
        }
      ]
    },
    {
      "cell_type": "code",
      "metadata": {
        "id": "5Rha10q7C7nA",
        "outputId": "93ad9a74-3f07-4054-acb5-91bce61d45e5"
      },
      "source": [
        "# insert(i, x) - inserts a new element 'x' at a specified index 'i'\n",
        "alist.insert(2, \"hello\")\n",
        "alist"
      ],
      "execution_count": null,
      "outputs": [
        {
          "output_type": "execute_result",
          "data": {
            "text/plain": [
              "['a', 'b', 'hello', 'c', 'd']"
            ]
          },
          "metadata": {
            "tags": []
          },
          "execution_count": 42
        }
      ]
    },
    {
      "cell_type": "code",
      "metadata": {
        "id": "C9YZUZcHw-4K",
        "outputId": "140f180d-1339-41db-8a5e-36651c1798be"
      },
      "source": [
        "# sorted(list) - returns the sorted 'list', but does not replace order in original list \n",
        "num = [ 4, 6, 2]\n",
        "num = sorted(num)\n",
        "num"
      ],
      "execution_count": null,
      "outputs": [
        {
          "output_type": "execute_result",
          "data": {
            "text/plain": [
              "[2, 4, 6]"
            ]
          },
          "metadata": {
            "tags": []
          },
          "execution_count": 43
        }
      ]
    },
    {
      "cell_type": "code",
      "metadata": {
        "id": "a8W1o6D2xIyG",
        "outputId": "516ef551-d142-4f99-e145-e53c3d78945b"
      },
      "source": [
        "# pop(i) - removes and returns the element in index position 'i'\n",
        "num = [4, 7, 2, 6, 3, 9] \n",
        "num.pop(3)\n",
        "num"
      ],
      "execution_count": null,
      "outputs": [
        {
          "output_type": "execute_result",
          "data": {
            "text/plain": [
              "[4, 7, 2, 3, 9]"
            ]
          },
          "metadata": {
            "tags": []
          },
          "execution_count": 44
        }
      ]
    },
    {
      "cell_type": "code",
      "metadata": {
        "id": "u3mw0lvxxN5M",
        "outputId": "d2b767ed-27c9-4756-8772-560e13f1ce98"
      },
      "source": [
        "# clear() - removes all the elements from a list.\n",
        "num = [4, 7, 2, 6, 3, 9]\n",
        "num.clear()\n",
        "num"
      ],
      "execution_count": null,
      "outputs": [
        {
          "output_type": "execute_result",
          "data": {
            "text/plain": [
              "[]"
            ]
          },
          "metadata": {
            "tags": []
          },
          "execution_count": 45
        }
      ]
    },
    {
      "cell_type": "markdown",
      "metadata": {
        "id": "-domUW9RC7nC"
      },
      "source": [
        "Adding lists produces a bigger list! This is an example of a programming technique called operator overloading"
      ]
    },
    {
      "cell_type": "code",
      "metadata": {
        "id": "SBtUHtXoC7nD",
        "outputId": "81d23853-79d0-422a-9cf7-657179386c02"
      },
      "source": [
        "first_list = [1, 2, 3]\n",
        "second_list = ['a', 'b', 'c']\n",
        "first_list + second_list"
      ],
      "execution_count": null,
      "outputs": [
        {
          "output_type": "execute_result",
          "data": {
            "text/plain": [
              "[1, 2, 3, 'a', 'b', 'c']"
            ]
          },
          "metadata": {
            "tags": []
          },
          "execution_count": 46
        }
      ]
    },
    {
      "cell_type": "markdown",
      "metadata": {
        "id": "tMoSuO3BC7nD"
      },
      "source": [
        "## Iterating over lists\n",
        "\n",
        "Using a for loop to do iteration is quite simple."
      ]
    },
    {
      "cell_type": "code",
      "metadata": {
        "id": "9nfpmpABC7nE",
        "outputId": "9f7f201f-6f23-4dd0-8837-55aa894977b7"
      },
      "source": [
        "num = [4, 7, 2, 6, 3, 9]\n",
        "for ele in num:\n",
        "    print(ele)"
      ],
      "execution_count": null,
      "outputs": [
        {
          "output_type": "stream",
          "text": [
            "4\n",
            "7\n",
            "2\n",
            "6\n",
            "3\n",
            "9\n"
          ],
          "name": "stdout"
        }
      ]
    },
    {
      "cell_type": "markdown",
      "metadata": {
        "id": "wdCp2NuyC7nE"
      },
      "source": [
        "You can now mix in conditionals to filter your iteration:"
      ]
    },
    {
      "cell_type": "code",
      "metadata": {
        "id": "Ed04f5w1C7nF",
        "outputId": "546f2fd7-4811-43bb-c793-da9ced9b55a8"
      },
      "source": [
        "for ele in num:\n",
        "    if ele % 2 == 0: #even numbers only\n",
        "        print(ele)"
      ],
      "execution_count": null,
      "outputs": [
        {
          "output_type": "stream",
          "text": [
            "4\n",
            "2\n",
            "6\n"
          ],
          "name": "stdout"
        }
      ]
    },
    {
      "cell_type": "markdown",
      "metadata": {
        "id": "XeL-l5fGC7nF"
      },
      "source": [
        "There is a short-cut iteration syntax called a list comprehension, often used to construct new lists"
      ]
    },
    {
      "cell_type": "code",
      "metadata": {
        "id": "b4xG-gqcC7nF",
        "outputId": "da6d46fc-2238-478f-a3cc-25aa0cb9b778"
      },
      "source": [
        "list_with_same_as_num = [e for e in num]\n",
        "list_with_same_as_num"
      ],
      "execution_count": null,
      "outputs": [
        {
          "output_type": "execute_result",
          "data": {
            "text/plain": [
              "[4, 7, 2, 6, 3, 9]"
            ]
          },
          "metadata": {
            "tags": []
          },
          "execution_count": 49
        }
      ]
    },
    {
      "cell_type": "markdown",
      "metadata": {
        "id": "DXaqzEtgC7nG"
      },
      "source": [
        "This kind of syntax is really useful when combined with conditionals:"
      ]
    },
    {
      "cell_type": "code",
      "metadata": {
        "id": "aIa4VOa9C7nG",
        "outputId": "0c736f28-d4ea-4d60-f904-9613efaf1420"
      },
      "source": [
        "list_with_evens = [e for e in num if e % 2 == 0]\n",
        "list_with_evens"
      ],
      "execution_count": null,
      "outputs": [
        {
          "output_type": "execute_result",
          "data": {
            "text/plain": [
              "[4, 2, 6]"
            ]
          },
          "metadata": {
            "tags": []
          },
          "execution_count": 50
        }
      ]
    },
    {
      "cell_type": "markdown",
      "metadata": {
        "id": "-kKCRDDZoNvk"
      },
      "source": [
        "## Strings\n",
        "\n",
        "Strings such as `hello world` in python behave just like lists, and a lot of what you learn about lists applies to them: they are **iterable**, and they have a length! But they have one critical additional property: they are **immutable**, that is they cant be changed!\n"
      ]
    },
    {
      "cell_type": "code",
      "metadata": {
        "id": "Cbkj834onHje",
        "outputId": "f3e706d0-2ed5-459a-e49b-f2d1d9ec0d26"
      },
      "source": [
        "var = \"This is a string\"\n",
        "print (var, len(var))\n",
        "print (var[3]) # the s of This"
      ],
      "execution_count": null,
      "outputs": [
        {
          "output_type": "stream",
          "text": [
            "This is a string 16\n",
            "s\n"
          ],
          "name": "stdout"
        }
      ]
    },
    {
      "cell_type": "code",
      "metadata": {
        "id": "x9dGuEPLC7nI",
        "outputId": "76f87209-644b-42c8-e850-992ae3ff7b1b"
      },
      "source": [
        "for char in var:\n",
        "    print(char)"
      ],
      "execution_count": null,
      "outputs": [
        {
          "output_type": "stream",
          "text": [
            "T\n",
            "h\n",
            "i\n",
            "s\n",
            " \n",
            "i\n",
            "s\n",
            " \n",
            "a\n",
            " \n",
            "s\n",
            "t\n",
            "r\n",
            "i\n",
            "n\n",
            "g\n"
          ],
          "name": "stdout"
        }
      ]
    },
    {
      "cell_type": "code",
      "metadata": {
        "id": "FIIqTKkyC7nI",
        "outputId": "e11a4b18-8e0a-48e1-dc91-b2d0f0225667"
      },
      "source": [
        "var[3] = \"t\" # this will fail because immutability"
      ],
      "execution_count": null,
      "outputs": [
        {
          "output_type": "error",
          "ename": "TypeError",
          "evalue": "'str' object does not support item assignment",
          "traceback": [
            "\u001b[0;31m---------------------------------------------------------------------------\u001b[0m",
            "\u001b[0;31mTypeError\u001b[0m                                 Traceback (most recent call last)",
            "\u001b[0;32m<ipython-input-53-afd63de1e61e>\u001b[0m in \u001b[0;36m<module>\u001b[0;34m\u001b[0m\n\u001b[0;32m----> 1\u001b[0;31m \u001b[0mvar\u001b[0m\u001b[0;34m[\u001b[0m\u001b[0;36m3\u001b[0m\u001b[0;34m]\u001b[0m \u001b[0;34m=\u001b[0m \u001b[0;34m\"t\"\u001b[0m \u001b[0;31m# this will fail because immutability\u001b[0m\u001b[0;34m\u001b[0m\u001b[0;34m\u001b[0m\u001b[0m\n\u001b[0m",
            "\u001b[0;31mTypeError\u001b[0m: 'str' object does not support item assignment"
          ]
        }
      ]
    },
    {
      "cell_type": "markdown",
      "metadata": {
        "id": "w-jxtAt0C7nJ"
      },
      "source": [
        "Strings can be sliced just as lists can"
      ]
    },
    {
      "cell_type": "code",
      "metadata": {
        "id": "TC-nrmM6C7nJ",
        "outputId": "0ae46d76-39d1-44c8-cc35-9816af79e83f"
      },
      "source": [
        "#String slicing\n",
        "print(var)\n",
        "print (var[6:])\n",
        "print (var[1:3])\n",
        "print (var[:-1])\n",
        "print (var[2:10:2]) #the last parameter is for chagning the step size"
      ],
      "execution_count": null,
      "outputs": [
        {
          "output_type": "stream",
          "text": [
            "This is a string\n",
            "s a string\n",
            "hi\n",
            "This is a strin\n",
            "i sa\n"
          ],
          "name": "stdout"
        }
      ]
    },
    {
      "cell_type": "markdown",
      "metadata": {
        "id": "2OAH0t9uC7nK"
      },
      "source": [
        "![](https://github.com/nehal-sharma/BasicPython/blob/main/listiness.slides.dir/7.png?raw=1)"
      ]
    },
    {
      "cell_type": "markdown",
      "metadata": {
        "id": "JLnDLEqpxV25"
      },
      "source": [
        "## Files\n",
        "\n",
        "The built-in `open()` function creates a Python file object, which serves as a link to a file residing on your machine. After calling 'open()', strings of data can be transferred to and from the associated external file by calling the returned file object's methods.\n",
        "\n",
        "At this point, you can read data from the file as a whole (`read()`, or `n` bytes at a time, `read(n)`. You can read a line at a time with `readline()`, and all the lines into a list of strings with `readlines()`. Similar methods exist for writing.\n",
        "\n",
        "You must close the file after you finish using it.\n",
        "\n",
        "![](https://github.com/nehal-sharma/BasicPython/blob/main/listiness.slides.dir/10.png?raw=1)\n",
        "\n",
        "But as you might have expected, you can treat a file just like a list even more idiomatically, as we shall see."
      ]
    },
    {
      "cell_type": "code",
      "metadata": {
        "id": "2JTSqhevC7nL",
        "outputId": "f7790d25-d64e-40ba-ee81-cadba085ac09"
      },
      "source": [
        "fd = open(\"data/Julius Caesar.txt\")\n",
        "counter = 0\n",
        "for line in fd:\n",
        "    if counter < 10: # print first 10 lines, there are lots!\n",
        "        print(\"<<\", line, \">>\")\n",
        "    counter = counter + 1 # also writeable as counter += 1\n",
        "fd.close()"
      ],
      "execution_count": null,
      "outputs": [
        {
          "output_type": "stream",
          "text": [
            "<< THE TRAGEDY OF JULIUS CAESAR\n",
            " >>\n",
            "<< \n",
            " >>\n",
            "<< \n",
            " >>\n",
            "<< by William Shakespeare\n",
            " >>\n",
            "<< \n",
            " >>\n",
            "<< \n",
            " >>\n",
            "<< Contents\n",
            " >>\n",
            "<< \n",
            " >>\n",
            "<< ACT I\n",
            " >>\n",
            "<< Scene I. Rome. A street.\n",
            " >>\n"
          ],
          "name": "stdout"
        }
      ]
    },
    {
      "cell_type": "markdown",
      "metadata": {
        "id": "hidXhQb9C7nM"
      },
      "source": [
        "Notice that the newlines remain. You can use the string method `strip` to remove them. There are many such \"methods\", which are functions that belong to string \"objects\"."
      ]
    },
    {
      "cell_type": "code",
      "metadata": {
        "id": "7BAcx-rbC7nN",
        "outputId": "d023f9ce-bdbf-4bb8-db26-252e5f4bb47d"
      },
      "source": [
        "fd = open(\"data/Julius Caesar.txt\")\n",
        "counter = 0\n",
        "for line in fd:\n",
        "    if counter < 10: # print first 10 lines\n",
        "        print(\"<<\", line.strip(), \">>\")\n",
        "    else:\n",
        "        break # break out of for loop\n",
        "    counter = counter + 1 # also writeable as counter += 1\n",
        "fd.close()\n",
        "print(counter)"
      ],
      "execution_count": null,
      "outputs": [
        {
          "output_type": "stream",
          "text": [
            "<< THE TRAGEDY OF JULIUS CAESAR >>\n",
            "<<  >>\n",
            "<<  >>\n",
            "<< by William Shakespeare >>\n",
            "<<  >>\n",
            "<<  >>\n",
            "<< Contents >>\n",
            "<<  >>\n",
            "<< ACT I >>\n",
            "<< Scene I. Rome. A street. >>\n",
            "10\n"
          ],
          "name": "stdout"
        }
      ]
    },
    {
      "cell_type": "markdown",
      "metadata": {
        "id": "1vJ9EsZFC7nN"
      },
      "source": [
        "Above we added a `break` statement in the for loop which ended our iteration through the file (its the whole play!!!). You can use `readlines()` here but it will read the entire file into memory."
      ]
    },
    {
      "cell_type": "code",
      "metadata": {
        "id": "c-aSIaAGC7nO",
        "outputId": "40715dc8-4cc9-41b8-bb98-0c32fb65e326"
      },
      "source": [
        "fd = open(\"data/Julius Caesar.txt\")\n",
        "lines = [line.strip() for line in fd.readlines()]\n",
        "fd.close()\n",
        "print(len(lines))"
      ],
      "execution_count": null,
      "outputs": [
        {
          "output_type": "stream",
          "text": [
            "4639\n"
          ],
          "name": "stdout"
        }
      ]
    },
    {
      "cell_type": "markdown",
      "metadata": {
        "id": "LMDjrywgC7nO"
      },
      "source": [
        "### What about writing?\n",
        "\n",
        "Lets write the first ten lines out..."
      ]
    },
    {
      "cell_type": "code",
      "metadata": {
        "id": "8wRWoIQwC7nP",
        "outputId": "0a1384cb-fe6f-4884-8fbb-373ad5bf0dc9"
      },
      "source": [
        "fd = open(\"data/Julius Caesar.txt\")\n",
        "fd2 = open(\"data/julfirst10.txt\", \"w\")\n",
        "counter = 0\n",
        "for line in fd:\n",
        "    if counter < 10: # print first 10 lines\n",
        "        print(\"<<\", line.strip(), \">>\")\n",
        "        fd2.write(line)\n",
        "    else:\n",
        "        break # break out of for loop\n",
        "    counter = counter + 1 # also writeable as counter += 1\n",
        "fd.close()\n",
        "fd2.close()\n",
        "print(counter)"
      ],
      "execution_count": null,
      "outputs": [
        {
          "output_type": "stream",
          "text": [
            "<< THE TRAGEDY OF JULIUS CAESAR >>\n",
            "<<  >>\n",
            "<<  >>\n",
            "<< by William Shakespeare >>\n",
            "<<  >>\n",
            "<<  >>\n",
            "<< Contents >>\n",
            "<<  >>\n",
            "<< ACT I >>\n",
            "<< Scene I. Rome. A street. >>\n",
            "10\n"
          ],
          "name": "stdout"
        }
      ]
    }
  ]
}